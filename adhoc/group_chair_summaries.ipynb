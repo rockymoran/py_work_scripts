{
 "cells": [
  {
   "cell_type": "code",
   "execution_count": 5,
   "metadata": {
    "collapsed": true
   },
   "outputs": [],
   "source": [
    "import pandas as pd\n",
    "import requests\n",
    "import regex as re\n",
    "import csv\n",
    "from bs4 import BeautifulSoup"
   ]
  },
  {
   "cell_type": "code",
   "execution_count": 2,
   "outputs": [],
   "source": [
    "# source data; set before running\n",
    "\n",
    "# use Access query \"qry_Course-Schedule-RM-withTIES\"; set dates within query to desired range (usually 3 years) (takes a while to run)\n",
    "course_schedule = r\"C:\\Work\\groupchairsched.xlsx\"\n",
    "\n",
    "\n",
    "# use Access query \"qry_IP_SignedOff\" for IP info (takes a while to run, be patient; remember to update date field since it's hidden)\n",
    "# automatically gets catalog for course info (description, title, etc)\n",
    "instructor_IP = r\"C:\\Work\\groupchairip.xlsx\"\n",
    "\n",
    "\n",
    "# continuing lecturers and their appointment %\n",
    "instructor_appointments = r\"\"\n",
    "\n",
    "\n",
    "# areas of emphasis and certificate info\n",
    "emphasis_certs = r\"C:\\Work\\Course Areas of Emphasis and Certificates.xlsx\"\n",
    "\n",
    "\n",
    "# campus catalog course data (no action necessary, runs in cells below)\n",
    "guide_urls = [\"\"\"http://guide.berkeley.edu/courses/ugba/\"\"\",\n",
    "       \"\"\"http://guide.berkeley.edu/courses/ewmba/\"\"\",\n",
    "       \"\"\"http://guide.berkeley.edu/courses/xmba/\"\"\",\n",
    "       \"\"\"http://guide.berkeley.edu/courses/mba/\"\"\",\n",
    "       \"\"\"http://guide.berkeley.edu/courses/phdba/\"\"\",\n",
    "       \"\"\"http://guide.berkeley.edu/courses/mfe/\"\"\"]\n",
    "\n",
    "\n",
    "# budget estimate report from curricular planning reports\n",
    "# using 'data dump' tab\n",
    "budget_report = r\"C:\\Work\\CPBudgetEstimate_06022022_225820.xlsx\"\n"
   ],
   "metadata": {
    "collapsed": false,
    "pycharm": {
     "name": "#%%\n"
    }
   }
  },
  {
   "cell_type": "code",
   "execution_count": 3,
   "outputs": [],
   "source": [
    "# read in and clean up schedule data\n",
    "\n",
    "schedule_df = \"\"\n"
   ],
   "metadata": {
    "collapsed": false,
    "pycharm": {
     "name": "#%%\n"
    }
   }
  },
  {
   "cell_type": "code",
   "execution_count": 4,
   "outputs": [
    {
     "name": "stdout",
     "output_type": "stream",
     "text": [
      "    Course Number                                       Course Title  \\\n",
      "0         UGBA C5                   Introduction to Entrepreneurship   \n",
      "1         UGBA 10                             Principles of Business   \n",
      "2        UGBA C12                           The Berkeley Changemaker   \n",
      "3         UGBA 13                 Berkeley Changemaker: Human Health   \n",
      "4         UGBA 24                                  Freshman Seminars   \n",
      "..            ...                                                ...   \n",
      "528      MFE 230X                             High Frequency Finance   \n",
      "529      MFE 230Y         Ethics and Regulation in Financial Markets   \n",
      "530     MFE 230ZA                   Deep Learning and Applications I   \n",
      "531     MFE 230ZB                  Deep Learning and Applications II   \n",
      "532       MFE 293  Individually Supervised Study for Graduate Stu...   \n",
      "\n",
      "                                           Description         Units  \n",
      "0    This course offers students a taste of what it...       2 Units  \n",
      "1    This team-taught course provides an introducti...       3 Units  \n",
      "2    Berkeley Changemaker impact occurs across many...       2 Units  \n",
      "3    Do you wonder how you might play a part in cha...       2 Units  \n",
      "4    The Berkeley Seminar Program has been designed...        1 Unit  \n",
      "..                                                 ...           ...  \n",
      "528  This course introduces basic concepts of high ...  1 or 2 Units  \n",
      "529  This course is an introduction to the legal ru...        1 Unit  \n",
      "530  Topics include supervised, unsupervised, and r...        1 Unit  \n",
      "531  Topics include spectral representation, long m...        1 Unit  \n",
      "532  Individually supervised study of subjects not ...   1 - 5 Units  \n",
      "\n",
      "[533 rows x 4 columns]\n"
     ]
    }
   ],
   "source": [
    "# get guide data\n",
    "columns = ['Course Number', 'Course Title', 'Description', 'Units']\n",
    "df = pd.DataFrame(columns=columns)\n",
    "\n",
    "def get_courses(url, df):\n",
    "    header = {'User-agent': 'Mozilla/5.0 (Windows NT 6.1; Win64; x64) AppleWebKit/537.36 (KHTML, like Gecko) '\n",
    "            'Chrome/64.0.3282.186 Safari/537.36'}\n",
    "    page = requests.get(url, headers=header)\n",
    "    soup = BeautifulSoup(page.content, 'html.parser')\n",
    "    courseblocks = soup.find_all(\"div\", {\"class\": \"courseblock\"})\n",
    "    for courseblock in courseblocks:\n",
    "        courseblock.a.decompose() # this deletes any \"a\" tags in the course. Doing this to remove the bottom \"read more\" link\n",
    "        course = courseblock.find(\"span\", {\"class\": \"code\"}).text\n",
    "        title = courseblock.find(\"span\", {\"class\": \"title\"}).text\n",
    "        units = courseblock.find(\"span\", {\"class\": \"hours\"}).text\n",
    "        desc = courseblock.find('p', {'class': 'courseblockdesc'}).text\n",
    "        desc = re.sub(r'\\bTerms offered\\b(.)*', '', desc)\n",
    "        desc = re.sub('\\\\n*', '', desc)\n",
    "        course_append = {'Course Number': course, 'Course Title': title, 'Description': desc, 'Units': units}\n",
    "        df = df.append(course_append, ignore_index=True)\n",
    "    return df\n",
    "\n",
    "\n",
    "for url in guide_urls:\n",
    "        df = get_courses(url, df)\n",
    "\n",
    "print(df)\n"
   ],
   "metadata": {
    "collapsed": false,
    "pycharm": {
     "name": "#%%\n"
    }
   }
  },
  {
   "cell_type": "code",
   "execution_count": null,
   "outputs": [],
   "source": [
    "# create budget sheet per group\n",
    "\n",
    "budget_df = \"\""
   ],
   "metadata": {
    "collapsed": false,
    "pycharm": {
     "name": "#%%\n"
    }
   }
  },
  {
   "cell_type": "code",
   "execution_count": null,
   "outputs": [],
   "source": [
    "# this is example code of how to beautiful soup read pages\n",
    "# delete once you have the guide data working\n",
    "\n",
    "# this file should have the urls of each faculty member's Haas website\n",
    "INPUT_FACULTY_FILE = r\"C:\\Work\\haas_faculty_urls.txt\"\n",
    "OUTPUT_FILE = r\"C:\\Work\\fac_education_rev.xlsx\"\n",
    "\n",
    "columns = ['Berkeley_ID', 'Employee_Name', 'Institution', 'Location', 'Major', 'Degree']\n",
    "\n",
    "# df = pd.read_csv(INPUT_FACULTY_FILE, header=None, names=[\"url\"])\n",
    "df = pd.DataFrame(columns=columns)\n",
    "\n",
    "\n",
    "# for any given haas faculty url, goes to the site then looks for the education field and copies the contents.\n",
    "def get_faculty_education(url, df):\n",
    "    header = {'User-agent': 'Mozilla/5.0 (Windows NT 6.1; Win64; x64) AppleWebKit/537.36 (KHTML, like Gecko) '\n",
    "                            'Chrome/64.0.3282.186 Safari/537.36'}\n",
    "    page = requests.get(url, headers=header)\n",
    "    soup = BeautifulSoup(page.content, 'html.parser')\n",
    "    try:\n",
    "        name = soup.find(\"h1\", itemprop=\"name headline\").text\n",
    "    except AttributeError:\n",
    "        name = \"\"\n",
    "    try:\n",
    "        div_contents = soup.find('h2', text='Education').findParent()\n",
    "        lis = div_contents.findAll(\"li\")\n",
    "        p_text = div_contents.findAll(\"p\")\n",
    "        if lis:\n",
    "            for li in lis:\n",
    "                new_row = {'Employee_Name': name, \"Education\": li.text, \"URL\": url}\n",
    "                df = df.append(new_row, ignore_index=True)\n",
    "        else:\n",
    "            for p in p_text:\n",
    "                new_row = {'Employee_Name': name, \"Education\": p.text, \"URL\": url}\n",
    "                df = df.append(new_row, ignore_index=True)\n",
    "    except AttributeError:\n",
    "        pass\n",
    "\n",
    "    print(\"%s processed.\" % name)\n",
    "    return df\n",
    "\n",
    "\n",
    "def stripper(text):\n",
    "    fields = text.split(\",\")\n",
    "    return_series = pd.Series(fields)\n",
    "    if return_series.size == 3:\n",
    "        return return_series\n",
    "    else:\n",
    "        return text, \"\", \"\"\n",
    "\n",
    "\n",
    "# goes through file and creates a row in dataframe for each education record\n",
    "with open(INPUT_FACULTY_FILE) as csvfile:\n",
    "    file = csv.reader(csvfile)\n",
    "    for row in file:\n",
    "        url = row[0]\n",
    "        df = get_faculty_education(url, df)\n",
    "\n",
    "df[['Degree', 'Major', 'Institution']] = df.apply(lambda x: stripper(x[\"Education\"]), axis=1)\n",
    "\n",
    "strip_columns = ['Degree', 'Major', 'Institution']\n",
    "for column in strip_columns:\n",
    "    df[column] = df[column].str.strip()\n",
    "\n",
    "print(df)\n",
    "df.to_excel(OUTPUT_FILE, columns=columns, index=False)"
   ],
   "metadata": {
    "collapsed": false,
    "pycharm": {
     "name": "#%%\n"
    }
   }
  }
 ],
 "metadata": {
  "kernelspec": {
   "display_name": "Python 3",
   "language": "python",
   "name": "python3"
  },
  "language_info": {
   "codemirror_mode": {
    "name": "ipython",
    "version": 2
   },
   "file_extension": ".py",
   "mimetype": "text/x-python",
   "name": "python",
   "nbconvert_exporter": "python",
   "pygments_lexer": "ipython2",
   "version": "2.7.6"
  }
 },
 "nbformat": 4,
 "nbformat_minor": 0
}